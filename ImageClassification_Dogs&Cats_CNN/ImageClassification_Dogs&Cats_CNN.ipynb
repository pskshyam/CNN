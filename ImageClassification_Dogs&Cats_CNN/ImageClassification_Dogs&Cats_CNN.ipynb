{
  "nbformat": 4,
  "nbformat_minor": 0,
  "metadata": {
    "colab": {
      "name": "ImageClassification_Dogs&Cats_CNN.ipynb",
      "version": "0.3.2",
      "provenance": []
    },
    "kernelspec": {
      "name": "python3",
      "display_name": "Python 3"
    },
    "accelerator": "GPU"
  },
  "cells": [
    {
      "cell_type": "markdown",
      "metadata": {
        "id": "view-in-github",
        "colab_type": "text"
      },
      "source": [
        "[View in Colaboratory](https://colab.research.google.com/github/pskshyam/CNN/blob/master/ImageClassification_Dogs&Cats_CNN/ImageClassification_Dogs&Cats_CNN.ipynb)"
      ]
    },
    {
      "metadata": {
        "id": "F_e9bb-Xgkze",
        "colab_type": "code",
        "colab": {
          "resources": {
            "http://localhost:8080/nbextensions/google.colab/files.js": {
              "data": "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",
              "ok": true,
              "headers": [
                [
                  "content-type",
                  "application/javascript"
                ]
              ],
              "status": 200,
              "status_text": "OK"
            }
          },
          "base_uri": "https://localhost:8080/",
          "height": 89
        },
        "outputId": "4468566f-9c8c-410e-eb6c-af2a9a6af047"
      },
      "cell_type": "code",
      "source": [
        "from google.colab import files\n",
        "uploaded = files.upload()\n",
        "for fn in uploaded.keys():\n",
        "  print('User uploaded file \"{name}\" with length {length} bytes'.format(name=fn, length=len(uploaded[fn])))"
      ],
      "execution_count": 3,
      "outputs": [
        {
          "output_type": "display_data",
          "data": {
            "text/html": [
              "\n",
              "     <input type=\"file\" id=\"files-ac2e8af3-2d6d-448e-8ab9-c0806af8e1d8\" name=\"files[]\" multiple disabled />\n",
              "     <output id=\"result-ac2e8af3-2d6d-448e-8ab9-c0806af8e1d8\">\n",
              "      Upload widget is only available when the cell has been executed in the\n",
              "      current browser session. Please rerun this cell to enable.\n",
              "      </output>\n",
              "      <script src=\"/nbextensions/google.colab/files.js\"></script> "
            ],
            "text/plain": [
              "<IPython.core.display.HTML object>"
            ]
          },
          "metadata": {
            "tags": []
          }
        },
        {
          "output_type": "stream",
          "text": [
            "Saving dataset.zip to dataset.zip\n",
            "User uploaded file \"dataset.zip\" with length 228093604 bytes\n"
          ],
          "name": "stdout"
        }
      ]
    },
    {
      "metadata": {
        "id": "3Z18nr7f_ESX",
        "colab_type": "code",
        "colab": {}
      },
      "cell_type": "code",
      "source": [
        "!unzip dataset.zip"
      ],
      "execution_count": 0,
      "outputs": []
    },
    {
      "metadata": {
        "id": "V4DTncBNg3fe",
        "colab_type": "code",
        "colab": {
          "base_uri": "https://localhost:8080/",
          "height": 85
        },
        "outputId": "7d5e5b99-7402-453e-e26c-f4cd1a738f8e"
      },
      "cell_type": "code",
      "source": [
        "!ls -ltr"
      ],
      "execution_count": 1,
      "outputs": [
        {
          "output_type": "stream",
          "text": [
            "total 222760\r\n",
            "drwxr-xr-x 1 root root      4096 May 11 18:15 datalab\r\n",
            "-rw-r--r-- 1 root root 228093604 May 21 08:34 dataset.zip\r\n",
            "drwxr-xr-x 5 root root      4096 May 21 09:16 dataset\r\n"
          ],
          "name": "stdout"
        }
      ]
    },
    {
      "metadata": {
        "id": "Yv0lJi-6yexq",
        "colab_type": "code",
        "colab": {}
      },
      "cell_type": "code",
      "source": [
        "#set random seed\n",
        "import numpy as np\n",
        "np.random.seed(42)"
      ],
      "execution_count": 0,
      "outputs": []
    },
    {
      "metadata": {
        "id": "4owL7WkMykBK",
        "colab_type": "text"
      },
      "cell_type": "markdown",
      "source": [
        "**Build the Graph**"
      ]
    },
    {
      "metadata": {
        "id": "Ucaza4uGyiOe",
        "colab_type": "code",
        "colab": {
          "base_uri": "https://localhost:8080/",
          "height": 34
        },
        "outputId": "74d00923-1fe8-4d3b-93d0-1de5a9b5f6c9"
      },
      "cell_type": "code",
      "source": [
        "#import Keras Libraries and Packages\n",
        "from keras.models import Sequential\n",
        "from keras.layers import Conv2D, MaxPooling2D, Flatten, Dense, Dropout\n",
        "from keras.optimizers import Adam\n",
        "from keras.preprocessing.image import ImageDataGenerator"
      ],
      "execution_count": 3,
      "outputs": [
        {
          "output_type": "stream",
          "text": [
            "Using TensorFlow backend.\n"
          ],
          "name": "stderr"
        }
      ]
    },
    {
      "metadata": {
        "id": "X3p6jbY4_ug0",
        "colab_type": "code",
        "colab": {}
      },
      "cell_type": "code",
      "source": [
        "img_width, img_height = 100, 100 "
      ],
      "execution_count": 0,
      "outputs": []
    },
    {
      "metadata": {
        "id": "F7wZiUt3ADT8",
        "colab_type": "code",
        "colab": {}
      },
      "cell_type": "code",
      "source": [
        "def create_model(p, input_shape=(32, 32, 3)):\n",
        "    # Initialising the CNN\n",
        "    model = Sequential()\n",
        "    # Convolution + Pooling Layer \n",
        "    model.add(Conv2D(32, (3, 3), padding='same', input_shape=input_shape, activation='relu'))\n",
        "    model.add(MaxPooling2D(pool_size=(2, 2)))\n",
        "    # Convolution + Pooling Layer \n",
        "    model.add(Conv2D(32, (3, 3), padding='same', activation='relu'))\n",
        "    model.add(MaxPooling2D(pool_size=(2, 2)))\n",
        "    # Convolution + Pooling Layer \n",
        "    model.add(Conv2D(64, (3, 3), padding='same', activation='relu'))\n",
        "    model.add(MaxPooling2D(pool_size=(2, 2)))\n",
        "    # Convolution + Pooling Layer \n",
        "    model.add(Conv2D(64, (3, 3), padding='same', activation='relu'))\n",
        "    model.add(MaxPooling2D(pool_size=(2, 2)))\n",
        "    \n",
        "    # Flattening\n",
        "    model.add(Flatten())\n",
        "    # Fully connection\n",
        "    model.add(Dense(64, activation='relu'))\n",
        "    model.add(Dropout(p))\n",
        "    model.add(Dense(64, activation='relu'))\n",
        "    model.add(Dense(64, activation='relu'))\n",
        "    model.add(Dropout(p/2))\n",
        "    model.add(Dense(1, activation='sigmoid'))\n",
        "    \n",
        "    # Compiling the CNN\n",
        "    optimizer = Adam(lr=1e-3)\n",
        "    metrics=['accuracy']\n",
        "    model.compile(optimizer=optimizer, loss='binary_crossentropy', metrics=metrics)\n",
        "    return model"
      ],
      "execution_count": 0,
      "outputs": []
    },
    {
      "metadata": {
        "id": "zhR3i3a6AcZi",
        "colab_type": "code",
        "colab": {}
      },
      "cell_type": "code",
      "source": [
        "#Fitting the CNN to the images.\n",
        "def run_training(bs=32, epochs=10):\n",
        "    \n",
        "    train_datagen = ImageDataGenerator(rescale = 1./255, \n",
        "                                       shear_range = 0.2, \n",
        "                                       zoom_range = 0.2, \n",
        "                                       horizontal_flip = True)\n",
        "\n",
        "    test_datagen = ImageDataGenerator(rescale = 1./255)\n",
        " \n",
        "    training_set = train_datagen.flow_from_directory('dataset/training_set',\n",
        "                                                 target_size = (img_width, img_height),\n",
        "                                                 batch_size = bs,\n",
        "                                                 class_mode = 'binary')\n",
        "                                                 \n",
        "    test_set = test_datagen.flow_from_directory('dataset/test_set',\n",
        "                                            target_size = (img_width, img_height),\n",
        "                                            batch_size = bs,\n",
        "                                            class_mode = 'binary')\n",
        "                                            \n",
        "    model = create_model(p=0.6, input_shape=(img_width, img_height, 3))\n",
        "    \n",
        "    model.fit_generator(training_set,\n",
        "                         steps_per_epoch=8000/bs,\n",
        "                         epochs = epochs,\n",
        "                         validation_data = test_set,\n",
        "                         validation_steps = 2000/bs)"
      ],
      "execution_count": 0,
      "outputs": []
    },
    {
      "metadata": {
        "id": "1fHOYzMjAw7d",
        "colab_type": "code",
        "colab": {
          "base_uri": "https://localhost:8080/",
          "height": 3471
        },
        "outputId": "bf58621b-9456-4735-912b-b3cfd0b32aa1"
      },
      "cell_type": "code",
      "source": [
        "def main():\n",
        "    run_training(bs=32, epochs=100)\n",
        " \n",
        "\"\"\" Main \"\"\"\n",
        "if __name__ == \"__main__\":\n",
        "    main()"
      ],
      "execution_count": 11,
      "outputs": [
        {
          "output_type": "stream",
          "text": [
            "Found 8000 images belonging to 2 classes.\n",
            "Found 2000 images belonging to 2 classes.\n",
            "Epoch 1/100\n",
            "250/250 [==============================] - 57s 227ms/step - loss: 0.6935 - acc: 0.5022 - val_loss: 0.6934 - val_acc: 0.5000\n",
            "Epoch 2/100\n",
            "180/250 [====================>.........] - ETA: 12s - loss: 0.6934 - acc: 0.5014"
          ],
          "name": "stdout"
        },
        {
          "output_type": "stream",
          "text": [
            "250/250 [==============================] - 54s 216ms/step - loss: 0.6934 - acc: 0.5024 - val_loss: 0.6930 - val_acc: 0.5000\n",
            "Epoch 3/100\n",
            "250/250 [==============================] - 54s 214ms/step - loss: 0.6867 - acc: 0.5428 - val_loss: 0.6695 - val_acc: 0.5890\n",
            "Epoch 4/100\n",
            "110/250 [============>.................] - ETA: 24s - loss: 0.6787 - acc: 0.5764"
          ],
          "name": "stdout"
        },
        {
          "output_type": "stream",
          "text": [
            "250/250 [==============================] - 53s 214ms/step - loss: 0.6724 - acc: 0.5940 - val_loss: 0.6605 - val_acc: 0.6170\n",
            "Epoch 5/100\n",
            "250/250 [==============================] - 54s 215ms/step - loss: 0.6370 - acc: 0.6418 - val_loss: 0.6128 - val_acc: 0.6850\n",
            "Epoch 6/100\n",
            " 96/250 [==========>...................] - ETA: 26s - loss: 0.6044 - acc: 0.6797"
          ],
          "name": "stdout"
        },
        {
          "output_type": "stream",
          "text": [
            "250/250 [==============================] - 54s 214ms/step - loss: 0.5983 - acc: 0.6837 - val_loss: 0.5681 - val_acc: 0.7180\n",
            "Epoch 7/100\n",
            "250/250 [==============================] - 54s 214ms/step - loss: 0.5756 - acc: 0.7045 - val_loss: 0.5334 - val_acc: 0.7450\n",
            "Epoch 8/100\n",
            " 96/250 [==========>...................] - ETA: 26s - loss: 0.5473 - acc: 0.7188"
          ],
          "name": "stdout"
        },
        {
          "output_type": "stream",
          "text": [
            "250/250 [==============================] - 53s 214ms/step - loss: 0.5436 - acc: 0.7289 - val_loss: 0.5259 - val_acc: 0.7700\n",
            "Epoch 9/100\n",
            "250/250 [==============================] - 54s 217ms/step - loss: 0.5189 - acc: 0.7381 - val_loss: 0.4911 - val_acc: 0.7735\n",
            "Epoch 10/100\n",
            " 87/250 [=========>....................] - ETA: 28s - loss: 0.4932 - acc: 0.7626"
          ],
          "name": "stdout"
        },
        {
          "output_type": "stream",
          "text": [
            "250/250 [==============================] - 54s 215ms/step - loss: 0.4940 - acc: 0.7595 - val_loss: 0.4615 - val_acc: 0.7960\n",
            "Epoch 11/100\n",
            "250/250 [==============================] - 54s 216ms/step - loss: 0.4705 - acc: 0.7819 - val_loss: 0.4530 - val_acc: 0.7955\n",
            "Epoch 12/100\n",
            " 92/250 [==========>...................] - ETA: 27s - loss: 0.4654 - acc: 0.7860"
          ],
          "name": "stdout"
        },
        {
          "output_type": "stream",
          "text": [
            "250/250 [==============================] - 54s 216ms/step - loss: 0.4590 - acc: 0.7876 - val_loss: 0.4568 - val_acc: 0.7955\n",
            "Epoch 13/100\n",
            "250/250 [==============================] - 54s 215ms/step - loss: 0.4520 - acc: 0.7901 - val_loss: 0.4245 - val_acc: 0.8290\n",
            "Epoch 14/100\n",
            " 89/250 [=========>....................] - ETA: 27s - loss: 0.4246 - acc: 0.8051\b\b\b\b\b\b\b\b\b\b\b\b\b\b\b\b\b\b\b\b\b\b\b\b\b\b\b\b\b\b\b\b\b\b\b\b\b\b\b\b\b\b\b\b\b\b\b\b\b\b\b\b\b\b\b\b\b\b\b\b\b\b\b\b\b\b\b\b\b\b\b\b\b\b\b\b\b\b\b\b"
          ],
          "name": "stdout"
        },
        {
          "output_type": "stream",
          "text": [
            "250/250 [==============================] - 54s 216ms/step - loss: 0.4233 - acc: 0.8108 - val_loss: 0.4439 - val_acc: 0.8050\n",
            "Epoch 15/100\n",
            "250/250 [==============================] - 54s 216ms/step - loss: 0.4126 - acc: 0.8126 - val_loss: 0.4266 - val_acc: 0.8035\n",
            "Epoch 16/100\n",
            " 79/250 [========>.....................] - ETA: 29s - loss: 0.3999 - acc: 0.8145\b\b\b\b\b\b\b\b\b\b\b\b\b\b\b\b\b\b\b\b\b\b\b\b\b\b\b\b\b\b\b\b\b\b\b\b\b\b\b\b\b\b\b\b\b\b\b\b\b\b\b\b\b\b\b\b\b\b\b\b\b\b\b\b\b\b\b\b\b\b\b\b\b\b\b\b\b\b\b\b"
          ],
          "name": "stdout"
        },
        {
          "output_type": "stream",
          "text": [
            "250/250 [==============================] - 54s 216ms/step - loss: 0.4023 - acc: 0.8175 - val_loss: 0.4026 - val_acc: 0.8420\n",
            "Epoch 17/100\n",
            "250/250 [==============================] - 54s 216ms/step - loss: 0.3832 - acc: 0.8311 - val_loss: 0.4028 - val_acc: 0.8345\n",
            "Epoch 18/100\n",
            " 85/250 [=========>....................] - ETA: 28s - loss: 0.3856 - acc: 0.8246"
          ],
          "name": "stdout"
        },
        {
          "output_type": "stream",
          "text": [
            "250/250 [==============================] - 54s 216ms/step - loss: 0.3711 - acc: 0.8361 - val_loss: 0.3985 - val_acc: 0.8190\n",
            "Epoch 19/100\n",
            "250/250 [==============================] - 54s 216ms/step - loss: 0.3562 - acc: 0.8473 - val_loss: 0.3909 - val_acc: 0.8385\n",
            "Epoch 20/100\n",
            " 84/250 [=========>....................] - ETA: 28s - loss: 0.3378 - acc: 0.8519"
          ],
          "name": "stdout"
        },
        {
          "output_type": "stream",
          "text": [
            "250/250 [==============================] - 54s 216ms/step - loss: 0.3512 - acc: 0.8469 - val_loss: 0.4063 - val_acc: 0.8355\n",
            "Epoch 21/100\n",
            "250/250 [==============================] - 54s 215ms/step - loss: 0.3452 - acc: 0.8504 - val_loss: 0.3966 - val_acc: 0.8420\n",
            "Epoch 22/100\n",
            " 89/250 [=========>....................] - ETA: 27s - loss: 0.3420 - acc: 0.8501"
          ],
          "name": "stdout"
        },
        {
          "output_type": "stream",
          "text": [
            "250/250 [==============================] - 54s 215ms/step - loss: 0.3501 - acc: 0.8458 - val_loss: 0.3700 - val_acc: 0.8595\n",
            "Epoch 23/100\n",
            "250/250 [==============================] - 54s 216ms/step - loss: 0.3276 - acc: 0.8579 - val_loss: 0.3688 - val_acc: 0.8580\n",
            "Epoch 24/100\n",
            " 94/250 [==========>...................] - ETA: 27s - loss: 0.3320 - acc: 0.8570"
          ],
          "name": "stdout"
        },
        {
          "output_type": "stream",
          "text": [
            "250/250 [==============================] - 54s 216ms/step - loss: 0.3239 - acc: 0.8619 - val_loss: 0.3725 - val_acc: 0.8485\n",
            "Epoch 25/100\n",
            "250/250 [==============================] - 54s 216ms/step - loss: 0.3120 - acc: 0.8654 - val_loss: 0.3829 - val_acc: 0.8405\n",
            "Epoch 26/100\n",
            " 91/250 [=========>....................] - ETA: 27s - loss: 0.3092 - acc: 0.8623"
          ],
          "name": "stdout"
        },
        {
          "output_type": "stream",
          "text": [
            "250/250 [==============================] - 54s 215ms/step - loss: 0.3095 - acc: 0.8658 - val_loss: 0.3826 - val_acc: 0.8635\n",
            "Epoch 27/100\n",
            "250/250 [==============================] - 54s 215ms/step - loss: 0.3056 - acc: 0.8707 - val_loss: 0.3800 - val_acc: 0.8580\n",
            "Epoch 28/100\n",
            " 91/250 [=========>....................] - ETA: 27s - loss: 0.3094 - acc: 0.8623"
          ],
          "name": "stdout"
        },
        {
          "output_type": "stream",
          "text": [
            "250/250 [==============================] - 54s 216ms/step - loss: 0.2983 - acc: 0.8642 - val_loss: 0.3587 - val_acc: 0.8585\n",
            "Epoch 29/100\n",
            "250/250 [==============================] - 54s 216ms/step - loss: 0.2993 - acc: 0.8725 - val_loss: 0.3800 - val_acc: 0.8355\n",
            "Epoch 30/100\n",
            " 87/250 [=========>....................] - ETA: 28s - loss: 0.2881 - acc: 0.8782"
          ],
          "name": "stdout"
        },
        {
          "output_type": "stream",
          "text": [
            "250/250 [==============================] - 54s 216ms/step - loss: 0.2938 - acc: 0.8756 - val_loss: 0.3598 - val_acc: 0.8715\n",
            "Epoch 31/100\n",
            "250/250 [==============================] - 54s 216ms/step - loss: 0.2911 - acc: 0.8771 - val_loss: 0.3553 - val_acc: 0.8585\n",
            "Epoch 32/100\n",
            " 95/250 [==========>...................] - ETA: 26s - loss: 0.2837 - acc: 0.8783"
          ],
          "name": "stdout"
        },
        {
          "output_type": "stream",
          "text": [
            "250/250 [==============================] - 54s 216ms/step - loss: 0.2786 - acc: 0.8829 - val_loss: 0.3838 - val_acc: 0.8610\n",
            "Epoch 33/100\n",
            "250/250 [==============================] - 54s 215ms/step - loss: 0.2779 - acc: 0.8842 - val_loss: 0.3587 - val_acc: 0.8535\n",
            "Epoch 34/100\n",
            " 92/250 [==========>...................] - ETA: 27s - loss: 0.2709 - acc: 0.8818"
          ],
          "name": "stdout"
        },
        {
          "output_type": "stream",
          "text": [
            "250/250 [==============================] - 54s 216ms/step - loss: 0.2699 - acc: 0.8855 - val_loss: 0.3801 - val_acc: 0.8465\n",
            "Epoch 35/100\n",
            "250/250 [==============================] - 54s 216ms/step - loss: 0.2688 - acc: 0.8837 - val_loss: 0.3380 - val_acc: 0.8725\n",
            "Epoch 36/100\n",
            " 87/250 [=========>....................] - ETA: 28s - loss: 0.2672 - acc: 0.8919"
          ],
          "name": "stdout"
        },
        {
          "output_type": "stream",
          "text": [
            "250/250 [==============================] - 54s 216ms/step - loss: 0.2744 - acc: 0.8861 - val_loss: 0.3846 - val_acc: 0.8540\n",
            "Epoch 37/100\n",
            "250/250 [==============================] - 54s 214ms/step - loss: 0.2520 - acc: 0.8909 - val_loss: 0.3251 - val_acc: 0.8790\n",
            "Epoch 38/100\n",
            " 87/250 [=========>....................] - ETA: 27s - loss: 0.2383 - acc: 0.8962"
          ],
          "name": "stdout"
        },
        {
          "output_type": "stream",
          "text": [
            "250/250 [==============================] - 54s 215ms/step - loss: 0.2504 - acc: 0.8951 - val_loss: 0.3181 - val_acc: 0.8570\n",
            "Epoch 39/100\n",
            "250/250 [==============================] - 53s 213ms/step - loss: 0.2578 - acc: 0.8934 - val_loss: 0.3580 - val_acc: 0.8780\n",
            "Epoch 40/100\n",
            " 93/250 [==========>...................] - ETA: 27s - loss: 0.2583 - acc: 0.8874"
          ],
          "name": "stdout"
        },
        {
          "output_type": "stream",
          "text": [
            "250/250 [==============================] - 54s 215ms/step - loss: 0.2558 - acc: 0.8919 - val_loss: 0.3316 - val_acc: 0.8635\n",
            "Epoch 41/100\n",
            "250/250 [==============================] - 54s 215ms/step - loss: 0.2376 - acc: 0.9027 - val_loss: 0.3107 - val_acc: 0.8765\n",
            "Epoch 42/100\n",
            " 92/250 [==========>...................] - ETA: 27s - loss: 0.2372 - acc: 0.8998"
          ],
          "name": "stdout"
        },
        {
          "output_type": "stream",
          "text": [
            "250/250 [==============================] - 53s 214ms/step - loss: 0.2457 - acc: 0.8978 - val_loss: 0.3662 - val_acc: 0.8450\n",
            "Epoch 43/100\n",
            "250/250 [==============================] - 54s 214ms/step - loss: 0.2317 - acc: 0.9049 - val_loss: 0.3211 - val_acc: 0.8715\n",
            "Epoch 44/100\n",
            " 94/250 [==========>...................] - ETA: 26s - loss: 0.2228 - acc: 0.9102"
          ],
          "name": "stdout"
        },
        {
          "output_type": "stream",
          "text": [
            "250/250 [==============================] - 53s 214ms/step - loss: 0.2337 - acc: 0.9031 - val_loss: 0.3252 - val_acc: 0.8695\n",
            "Epoch 45/100\n",
            "250/250 [==============================] - 53s 213ms/step - loss: 0.2313 - acc: 0.9030 - val_loss: 0.3090 - val_acc: 0.8675\n",
            "Epoch 46/100\n",
            " 92/250 [==========>...................] - ETA: 27s - loss: 0.2255 - acc: 0.9069"
          ],
          "name": "stdout"
        },
        {
          "output_type": "stream",
          "text": [
            "250/250 [==============================] - 54s 214ms/step - loss: 0.2279 - acc: 0.9085 - val_loss: 0.3550 - val_acc: 0.8545\n",
            "Epoch 47/100\n",
            "250/250 [==============================] - 53s 214ms/step - loss: 0.2327 - acc: 0.9004 - val_loss: 0.3223 - val_acc: 0.8725\n",
            "Epoch 48/100\n",
            " 93/250 [==========>...................] - ETA: 27s - loss: 0.2135 - acc: 0.9069"
          ],
          "name": "stdout"
        },
        {
          "output_type": "stream",
          "text": [
            "250/250 [==============================] - 53s 213ms/step - loss: 0.2236 - acc: 0.9059 - val_loss: 0.3556 - val_acc: 0.8455\n",
            "Epoch 49/100\n",
            "250/250 [==============================] - 53s 214ms/step - loss: 0.2080 - acc: 0.9140 - val_loss: 0.3101 - val_acc: 0.8840\n",
            "Epoch 50/100\n",
            " 92/250 [==========>...................] - ETA: 27s - loss: 0.2083 - acc: 0.9134"
          ],
          "name": "stdout"
        },
        {
          "output_type": "stream",
          "text": [
            "250/250 [==============================] - 53s 214ms/step - loss: 0.2152 - acc: 0.9108 - val_loss: 0.3049 - val_acc: 0.8840\n",
            "Epoch 51/100\n",
            "250/250 [==============================] - 53s 213ms/step - loss: 0.2250 - acc: 0.9049 - val_loss: 0.3299 - val_acc: 0.8805\n",
            "Epoch 52/100\n",
            " 92/250 [==========>...................] - ETA: 26s - loss: 0.2124 - acc: 0.9113"
          ],
          "name": "stdout"
        },
        {
          "output_type": "stream",
          "text": [
            "250/250 [==============================] - 53s 213ms/step - loss: 0.2043 - acc: 0.9156 - val_loss: 0.3606 - val_acc: 0.8530\n",
            "Epoch 53/100\n",
            "250/250 [==============================] - 53s 213ms/step - loss: 0.2143 - acc: 0.9095 - val_loss: 0.3236 - val_acc: 0.8615\n",
            "Epoch 54/100\n",
            " 89/250 [=========>....................] - ETA: 27s - loss: 0.2164 - acc: 0.9091"
          ],
          "name": "stdout"
        },
        {
          "output_type": "stream",
          "text": [
            "250/250 [==============================] - 53s 213ms/step - loss: 0.2038 - acc: 0.9156 - val_loss: 0.3148 - val_acc: 0.8750\n",
            "Epoch 55/100\n",
            "250/250 [==============================] - 53s 211ms/step - loss: 0.2027 - acc: 0.9168 - val_loss: 0.3296 - val_acc: 0.8615\n",
            "Epoch 56/100\n",
            " 95/250 [==========>...................] - ETA: 26s - loss: 0.2048 - acc: 0.9155"
          ],
          "name": "stdout"
        },
        {
          "output_type": "stream",
          "text": [
            "250/250 [==============================] - 53s 211ms/step - loss: 0.2067 - acc: 0.9141 - val_loss: 0.3346 - val_acc: 0.8550\n",
            "Epoch 57/100\n",
            "250/250 [==============================] - 53s 212ms/step - loss: 0.1983 - acc: 0.9216 - val_loss: 0.2885 - val_acc: 0.8890\n",
            "Epoch 58/100\n",
            " 98/250 [==========>...................] - ETA: 25s - loss: 0.2068 - acc: 0.9152"
          ],
          "name": "stdout"
        },
        {
          "output_type": "stream",
          "text": [
            "250/250 [==============================] - 53s 212ms/step - loss: 0.2013 - acc: 0.9156 - val_loss: 0.3326 - val_acc: 0.8685\n",
            "Epoch 59/100\n",
            "250/250 [==============================] - 53s 211ms/step - loss: 0.2005 - acc: 0.9189 - val_loss: 0.3384 - val_acc: 0.8495\n",
            "Epoch 60/100\n",
            " 96/250 [==========>...................] - ETA: 26s - loss: 0.1901 - acc: 0.9222"
          ],
          "name": "stdout"
        },
        {
          "output_type": "stream",
          "text": [
            "250/250 [==============================] - 53s 212ms/step - loss: 0.1945 - acc: 0.9211 - val_loss: 0.3252 - val_acc: 0.8735\n",
            "Epoch 61/100\n",
            "250/250 [==============================] - 53s 212ms/step - loss: 0.1808 - acc: 0.9246 - val_loss: 0.3060 - val_acc: 0.8710\n",
            "Epoch 62/100\n",
            " 95/250 [==========>...................] - ETA: 26s - loss: 0.1923 - acc: 0.9230"
          ],
          "name": "stdout"
        },
        {
          "output_type": "stream",
          "text": [
            "250/250 [==============================] - 53s 212ms/step - loss: 0.1928 - acc: 0.9203 - val_loss: 0.3166 - val_acc: 0.8605\n",
            "Epoch 63/100\n",
            "250/250 [==============================] - 53s 213ms/step - loss: 0.1837 - acc: 0.9238 - val_loss: 0.2972 - val_acc: 0.8745\n",
            "Epoch 64/100\n",
            " 92/250 [==========>...................] - ETA: 26s - loss: 0.1806 - acc: 0.9229"
          ],
          "name": "stdout"
        },
        {
          "output_type": "stream",
          "text": [
            "250/250 [==============================] - 53s 211ms/step - loss: 0.1854 - acc: 0.9215 - val_loss: 0.3265 - val_acc: 0.8645\n",
            "Epoch 65/100\n",
            "250/250 [==============================] - 53s 213ms/step - loss: 0.1764 - acc: 0.9280 - val_loss: 0.3028 - val_acc: 0.8745\n",
            "Epoch 66/100\n",
            " 95/250 [==========>...................] - ETA: 26s - loss: 0.1805 - acc: 0.9250"
          ],
          "name": "stdout"
        },
        {
          "output_type": "stream",
          "text": [
            "250/250 [==============================] - 53s 213ms/step - loss: 0.1910 - acc: 0.9204 - val_loss: 0.3055 - val_acc: 0.8845\n",
            "Epoch 67/100\n",
            "250/250 [==============================] - 53s 214ms/step - loss: 0.1893 - acc: 0.9217 - val_loss: 0.3098 - val_acc: 0.8830\n",
            "Epoch 68/100\n",
            " 93/250 [==========>...................] - ETA: 26s - loss: 0.1839 - acc: 0.9231"
          ],
          "name": "stdout"
        },
        {
          "output_type": "stream",
          "text": [
            "250/250 [==============================] - 53s 213ms/step - loss: 0.1884 - acc: 0.9219 - val_loss: 0.3394 - val_acc: 0.8525\n",
            "Epoch 69/100\n",
            "250/250 [==============================] - 53s 213ms/step - loss: 0.1728 - acc: 0.9295 - val_loss: 0.3181 - val_acc: 0.8655\n",
            "Epoch 70/100\n",
            " 95/250 [==========>...................] - ETA: 26s - loss: 0.1701 - acc: 0.9319"
          ],
          "name": "stdout"
        },
        {
          "output_type": "stream",
          "text": [
            "250/250 [==============================] - 53s 212ms/step - loss: 0.1709 - acc: 0.9301 - val_loss: 0.2833 - val_acc: 0.8850\n",
            "Epoch 71/100\n",
            "250/250 [==============================] - 53s 213ms/step - loss: 0.1790 - acc: 0.9255 - val_loss: 0.3245 - val_acc: 0.8605\n",
            "Epoch 72/100\n",
            " 94/250 [==========>...................] - ETA: 26s - loss: 0.1730 - acc: 0.9305"
          ],
          "name": "stdout"
        },
        {
          "output_type": "stream",
          "text": [
            "250/250 [==============================] - 53s 213ms/step - loss: 0.1780 - acc: 0.9298 - val_loss: 0.3223 - val_acc: 0.8700\n",
            "Epoch 73/100\n",
            "250/250 [==============================] - 53s 213ms/step - loss: 0.1632 - acc: 0.9330 - val_loss: 0.3044 - val_acc: 0.8835\n",
            "Epoch 74/100\n",
            " 94/250 [==========>...................] - ETA: 26s - loss: 0.1449 - acc: 0.9432"
          ],
          "name": "stdout"
        },
        {
          "output_type": "stream",
          "text": [
            "250/250 [==============================] - 53s 213ms/step - loss: 0.1607 - acc: 0.9367 - val_loss: 0.3096 - val_acc: 0.8720\n",
            "Epoch 75/100\n",
            "250/250 [==============================] - 53s 214ms/step - loss: 0.1643 - acc: 0.9310 - val_loss: 0.2949 - val_acc: 0.8755\n",
            "Epoch 76/100\n",
            " 92/250 [==========>...................] - ETA: 27s - loss: 0.1500 - acc: 0.9385"
          ],
          "name": "stdout"
        },
        {
          "output_type": "stream",
          "text": [
            "250/250 [==============================] - 54s 215ms/step - loss: 0.1601 - acc: 0.9351 - val_loss: 0.3147 - val_acc: 0.8735\n",
            "Epoch 77/100\n",
            "250/250 [==============================] - 54s 214ms/step - loss: 0.1682 - acc: 0.9332 - val_loss: 0.3082 - val_acc: 0.8775\n",
            "Epoch 78/100\n",
            " 94/250 [==========>...................] - ETA: 26s - loss: 0.1684 - acc: 0.9322"
          ],
          "name": "stdout"
        },
        {
          "output_type": "stream",
          "text": [
            "250/250 [==============================] - 54s 215ms/step - loss: 0.1700 - acc: 0.9311 - val_loss: 0.2973 - val_acc: 0.8685\n",
            "Epoch 79/100\n",
            "250/250 [==============================] - 54s 214ms/step - loss: 0.1572 - acc: 0.9350 - val_loss: 0.2864 - val_acc: 0.8805\n",
            "Epoch 80/100\n",
            " 92/250 [==========>...................] - ETA: 27s - loss: 0.1730 - acc: 0.9253"
          ],
          "name": "stdout"
        },
        {
          "output_type": "stream",
          "text": [
            "250/250 [==============================] - 54s 215ms/step - loss: 0.1623 - acc: 0.9337 - val_loss: 0.2808 - val_acc: 0.8800\n",
            "Epoch 81/100\n",
            "250/250 [==============================] - 54s 214ms/step - loss: 0.1589 - acc: 0.9337 - val_loss: 0.3004 - val_acc: 0.8830\n",
            "Epoch 82/100\n",
            " 93/250 [==========>...................] - ETA: 27s - loss: 0.1397 - acc: 0.9452"
          ],
          "name": "stdout"
        },
        {
          "output_type": "stream",
          "text": [
            "250/250 [==============================] - 54s 215ms/step - loss: 0.1518 - acc: 0.9383 - val_loss: 0.3062 - val_acc: 0.8820\n",
            "Epoch 83/100\n",
            "250/250 [==============================] - 54s 215ms/step - loss: 0.1662 - acc: 0.9335 - val_loss: 0.3013 - val_acc: 0.8785\n",
            "Epoch 84/100\n",
            " 95/250 [==========>...................] - ETA: 26s - loss: 0.1557 - acc: 0.9378"
          ],
          "name": "stdout"
        },
        {
          "output_type": "stream",
          "text": [
            "250/250 [==============================] - 53s 213ms/step - loss: 0.1615 - acc: 0.9363 - val_loss: 0.3259 - val_acc: 0.8640\n",
            "Epoch 85/100\n",
            "250/250 [==============================] - 53s 213ms/step - loss: 0.1490 - acc: 0.9391 - val_loss: 0.3352 - val_acc: 0.8585\n",
            "Epoch 86/100\n",
            " 96/250 [==========>...................] - ETA: 26s - loss: 0.1385 - acc: 0.9434"
          ],
          "name": "stdout"
        },
        {
          "output_type": "stream",
          "text": [
            "250/250 [==============================] - 53s 214ms/step - loss: 0.1515 - acc: 0.9390 - val_loss: 0.2827 - val_acc: 0.8745\n",
            "Epoch 87/100\n",
            "250/250 [==============================] - 53s 213ms/step - loss: 0.1454 - acc: 0.9430 - val_loss: 0.3048 - val_acc: 0.8715\n",
            "Epoch 88/100\n",
            " 88/250 [=========>....................] - ETA: 27s - loss: 0.1655 - acc: 0.9332"
          ],
          "name": "stdout"
        },
        {
          "output_type": "stream",
          "text": [
            "250/250 [==============================] - 53s 213ms/step - loss: 0.1568 - acc: 0.9356 - val_loss: 0.2999 - val_acc: 0.8730\n",
            "Epoch 89/100\n",
            "250/250 [==============================] - 54s 214ms/step - loss: 0.1449 - acc: 0.9415 - val_loss: 0.2902 - val_acc: 0.8780\n",
            "Epoch 90/100\n",
            " 95/250 [==========>...................] - ETA: 26s - loss: 0.1508 - acc: 0.9467"
          ],
          "name": "stdout"
        },
        {
          "output_type": "stream",
          "text": [
            "250/250 [==============================] - 53s 214ms/step - loss: 0.1481 - acc: 0.9433 - val_loss: 0.2807 - val_acc: 0.8885\n",
            "Epoch 91/100\n",
            "250/250 [==============================] - 54s 214ms/step - loss: 0.1498 - acc: 0.9421 - val_loss: 0.3116 - val_acc: 0.8740\n",
            "Epoch 92/100\n",
            " 95/250 [==========>...................] - ETA: 26s - loss: 0.1298 - acc: 0.9493"
          ],
          "name": "stdout"
        },
        {
          "output_type": "stream",
          "text": [
            "250/250 [==============================] - 53s 212ms/step - loss: 0.1445 - acc: 0.9435 - val_loss: 0.2922 - val_acc: 0.8745\n",
            "Epoch 93/100\n",
            "250/250 [==============================] - 53s 212ms/step - loss: 0.1486 - acc: 0.9419 - val_loss: 0.3212 - val_acc: 0.8705\n",
            "Epoch 94/100\n",
            " 95/250 [==========>...................] - ETA: 26s - loss: 0.1430 - acc: 0.9424"
          ],
          "name": "stdout"
        },
        {
          "output_type": "stream",
          "text": [
            "250/250 [==============================] - 53s 211ms/step - loss: 0.1405 - acc: 0.9439 - val_loss: 0.2735 - val_acc: 0.8840\n",
            "Epoch 95/100\n",
            "250/250 [==============================] - 53s 211ms/step - loss: 0.1380 - acc: 0.9455 - val_loss: 0.2735 - val_acc: 0.8790\n",
            "Epoch 96/100\n",
            " 97/250 [==========>...................] - ETA: 26s - loss: 0.1339 - acc: 0.9462"
          ],
          "name": "stdout"
        },
        {
          "output_type": "stream",
          "text": [
            "250/250 [==============================] - 53s 211ms/step - loss: 0.1450 - acc: 0.9426 - val_loss: 0.2767 - val_acc: 0.8830\n",
            "Epoch 97/100\n",
            "250/250 [==============================] - 53s 212ms/step - loss: 0.1381 - acc: 0.9441 - val_loss: 0.2987 - val_acc: 0.8615\n",
            "Epoch 98/100\n",
            " 92/250 [==========>...................] - ETA: 26s - loss: 0.1322 - acc: 0.9484"
          ],
          "name": "stdout"
        },
        {
          "output_type": "stream",
          "text": [
            "250/250 [==============================] - 53s 212ms/step - loss: 0.1343 - acc: 0.9449 - val_loss: 0.2874 - val_acc: 0.8745\n",
            "Epoch 99/100\n",
            "250/250 [==============================] - 53s 212ms/step - loss: 0.1456 - acc: 0.9431 - val_loss: 0.2843 - val_acc: 0.8710\n",
            "Epoch 100/100\n",
            " 92/250 [==========>...................] - ETA: 27s - loss: 0.1389 - acc: 0.9436"
          ],
          "name": "stdout"
        },
        {
          "output_type": "stream",
          "text": [
            "250/250 [==============================] - 53s 213ms/step - loss: 0.1382 - acc: 0.9452 - val_loss: 0.2641 - val_acc: 0.8860\n"
          ],
          "name": "stdout"
        }
      ]
    }
  ]
}