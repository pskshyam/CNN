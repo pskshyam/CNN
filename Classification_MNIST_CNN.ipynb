{
  "nbformat": 4,
  "nbformat_minor": 0,
  "metadata": {
    "colab": {
      "name": "Classification_MNIST_CNN.ipynb",
      "version": "0.3.2",
      "provenance": []
    },
    "kernelspec": {
      "display_name": "Python 3",
      "language": "python",
      "name": "python3"
    },
    "accelerator": "GPU"
  },
  "cells": [
    {
      "cell_type": "markdown",
      "metadata": {
        "id": "view-in-github",
        "colab_type": "text"
      },
      "source": [
        "[View in Colaboratory](https://colab.research.google.com/github/pskshyam/Neural-Networks-on-MNIST-Digits-Data/blob/master/Classification_MNIST_CNN.ipynb)"
      ]
    },
    {
      "metadata": {
        "id": "h0Ab97fCmPaQ",
        "colab_type": "text"
      },
      "cell_type": "markdown",
      "source": [
        "# MNIST Classification using CNN"
      ]
    },
    {
      "metadata": {
        "id": "Y3q3M8kOmPaS",
        "colab_type": "text"
      },
      "cell_type": "markdown",
      "source": [
        "Step 1 : Collect Data"
      ]
    },
    {
      "metadata": {
        "id": "jzmBxmnOmPaT",
        "colab_type": "code",
        "colab": {
          "base_uri": "https://localhost:8080/",
          "height": 153
        },
        "outputId": "e5da8155-1d24-49b2-f6a5-7cad71952278"
      },
      "cell_type": "code",
      "source": [
        "from tensorflow.examples.tutorials.mnist import input_data\n",
        "mnist = input_data.read_data_sets('MNIST_data', one_hot=True)"
      ],
      "execution_count": 2,
      "outputs": [
        {
          "output_type": "stream",
          "text": [
            "Successfully downloaded train-images-idx3-ubyte.gz 9912422 bytes.\n",
            "Extracting MNIST_data/train-images-idx3-ubyte.gz\n",
            "Successfully downloaded train-labels-idx1-ubyte.gz 28881 bytes.\n",
            "Extracting MNIST_data/train-labels-idx1-ubyte.gz\n",
            "Successfully downloaded t10k-images-idx3-ubyte.gz 1648877 bytes.\n",
            "Extracting MNIST_data/t10k-images-idx3-ubyte.gz\n",
            "Successfully downloaded t10k-labels-idx1-ubyte.gz 4542 bytes.\n",
            "Extracting MNIST_data/t10k-labels-idx1-ubyte.gz\n"
          ],
          "name": "stdout"
        }
      ]
    },
    {
      "metadata": {
        "id": "qA2s73P3mPaf",
        "colab_type": "text"
      },
      "cell_type": "markdown",
      "source": [
        "Step 1a : Get Training and Test Data"
      ]
    },
    {
      "metadata": {
        "id": "NHfSI7SEmPag",
        "colab_type": "code",
        "colab": {}
      },
      "cell_type": "code",
      "source": [
        "trainX = mnist.train.images\n",
        "trainY = mnist.train.labels"
      ],
      "execution_count": 0,
      "outputs": []
    },
    {
      "metadata": {
        "id": "J34SIF5xmPaj",
        "colab_type": "code",
        "colab": {}
      },
      "cell_type": "code",
      "source": [
        "testX = mnist.test.images\n",
        "testY = mnist.test.labels"
      ],
      "execution_count": 0,
      "outputs": []
    },
    {
      "metadata": {
        "id": "uwSlvx9KmPal",
        "colab_type": "text"
      },
      "cell_type": "markdown",
      "source": [
        "Set the Seed"
      ]
    },
    {
      "metadata": {
        "id": "s-2LPyA_mPam",
        "colab_type": "code",
        "colab": {}
      },
      "cell_type": "code",
      "source": [
        "import numpy as np"
      ],
      "execution_count": 0,
      "outputs": []
    },
    {
      "metadata": {
        "id": "cz7jYdWpmPao",
        "colab_type": "code",
        "colab": {}
      },
      "cell_type": "code",
      "source": [
        "np.random.seed(42)"
      ],
      "execution_count": 0,
      "outputs": []
    },
    {
      "metadata": {
        "id": "3Gj84OGnmPaq",
        "colab_type": "code",
        "colab": {
          "base_uri": "https://localhost:8080/",
          "height": 34
        },
        "outputId": "8c9142f8-0066-4ea6-daeb-15dcedaac13a"
      },
      "cell_type": "code",
      "source": [
        "trainX.shape"
      ],
      "execution_count": 7,
      "outputs": [
        {
          "output_type": "execute_result",
          "data": {
            "text/plain": [
              "(55000, 784)"
            ]
          },
          "metadata": {
            "tags": []
          },
          "execution_count": 7
        }
      ]
    },
    {
      "metadata": {
        "id": "Nz2ETTvGmPat",
        "colab_type": "text"
      },
      "cell_type": "markdown",
      "source": [
        "# Build the Graph"
      ]
    },
    {
      "metadata": {
        "id": "Rc3NpQALmPau",
        "colab_type": "text"
      },
      "cell_type": "markdown",
      "source": [
        "import Keras Models and Layers"
      ]
    },
    {
      "metadata": {
        "id": "IsvyXuqMmPav",
        "colab_type": "code",
        "colab": {}
      },
      "cell_type": "code",
      "source": [
        "from tensorflow.python.keras.models import Sequential"
      ],
      "execution_count": 0,
      "outputs": []
    },
    {
      "metadata": {
        "id": "S6c0FiNtmPay",
        "colab_type": "code",
        "colab": {}
      },
      "cell_type": "code",
      "source": [
        "from tensorflow.python.keras.layers import Dense, Dropout, Conv2D, Flatten, Reshape, MaxPool2D"
      ],
      "execution_count": 0,
      "outputs": []
    },
    {
      "metadata": {
        "id": "sd7Zq-YHmPa1",
        "colab_type": "code",
        "colab": {}
      },
      "cell_type": "code",
      "source": [
        "from tensorflow.python.keras.callbacks import TensorBoard"
      ],
      "execution_count": 0,
      "outputs": []
    },
    {
      "metadata": {
        "id": "DnZNSKc2mPa3",
        "colab_type": "text"
      },
      "cell_type": "markdown",
      "source": [
        "Start a Sequential model"
      ]
    },
    {
      "metadata": {
        "id": "Xbm1cRXwmPa4",
        "colab_type": "code",
        "colab": {}
      },
      "cell_type": "code",
      "source": [
        "model = Sequential()"
      ],
      "execution_count": 0,
      "outputs": []
    },
    {
      "metadata": {
        "id": "xN8LuVKMmPa6",
        "colab_type": "text"
      },
      "cell_type": "markdown",
      "source": [
        "Reshape Data<br>\n",
        "Why we need to reshape data?<br>\n",
        "Since the image data is flattened with shape of 784, we need to reshape it into an image of 3 dimensions (28x28x1) and pass it to the convolution layer."
      ]
    },
    {
      "metadata": {
        "id": "cUuf_goxmPa7",
        "colab_type": "code",
        "colab": {}
      },
      "cell_type": "code",
      "source": [
        "model.add(Reshape((28,28,1),input_shape=(784,)))"
      ],
      "execution_count": 0,
      "outputs": []
    },
    {
      "metadata": {
        "id": "prTxpkfqmPa_",
        "colab_type": "text"
      },
      "cell_type": "markdown",
      "source": [
        "Add first Convolutional layer : 32 filters 3x3 with stride as 1x1"
      ]
    },
    {
      "metadata": {
        "id": "EdDnYwSzmPbA",
        "colab_type": "code",
        "colab": {}
      },
      "cell_type": "code",
      "source": [
        "model.add(Conv2D(32,kernel_size=(3,3),activation='relu',strides=(1,1)))\n",
        "#kernel_size is to specify filter size. Machine detects the filter depth automatically based on the depth of input data.\n",
        "#we can specify different stride values for vertical & horizontal in strides parameter.\n",
        "#The outptu shape is 26x26x32"
      ],
      "execution_count": 0,
      "outputs": []
    },
    {
      "metadata": {
        "id": "diXd-dNqmPbD",
        "colab_type": "text"
      },
      "cell_type": "markdown",
      "source": [
        "Add 2nd Convolutional layer : 64 filters 3x3 with stride as 1x1"
      ]
    },
    {
      "metadata": {
        "id": "XRvL-wgkmPbE",
        "colab_type": "code",
        "colab": {}
      },
      "cell_type": "code",
      "source": [
        "model.add(Conv2D(64,kernel_size=(3,3),strides=(1,1),activation='relu'))\n",
        "#The size of filter is 3x3x32\n",
        "#The output shape is 24x24x64"
      ],
      "execution_count": 0,
      "outputs": []
    },
    {
      "metadata": {
        "id": "J_CdKxjFmPbG",
        "colab_type": "text"
      },
      "cell_type": "markdown",
      "source": [
        "Add MaxPooling layer"
      ]
    },
    {
      "metadata": {
        "id": "WxUghlsWmPbH",
        "colab_type": "code",
        "colab": {}
      },
      "cell_type": "code",
      "source": [
        "model.add(MaxPool2D(pool_size=(2,2)))\n",
        "#The output shape is 6x6x64. We have to divide the input dimensions (24) by 4 which is 6 since we are taking 1 value out of 4."
      ],
      "execution_count": 0,
      "outputs": []
    },
    {
      "metadata": {
        "id": "2tRlJh8vmPbJ",
        "colab_type": "text"
      },
      "cell_type": "markdown",
      "source": [
        "Add Dropout"
      ]
    },
    {
      "metadata": {
        "id": "sSF89MoemPbJ",
        "colab_type": "code",
        "colab": {}
      },
      "cell_type": "code",
      "source": [
        "model.add(Dropout(0.25))"
      ],
      "execution_count": 0,
      "outputs": []
    },
    {
      "metadata": {
        "id": "vm6SqL9wmPbL",
        "colab_type": "text"
      },
      "cell_type": "markdown",
      "source": [
        "Flatten the Output"
      ]
    },
    {
      "metadata": {
        "id": "UzVLCqaomPbM",
        "colab_type": "code",
        "colab": {}
      },
      "cell_type": "code",
      "source": [
        "model.add(Flatten())"
      ],
      "execution_count": 0,
      "outputs": []
    },
    {
      "metadata": {
        "id": "H_ir9uUPmPbP",
        "colab_type": "text"
      },
      "cell_type": "markdown",
      "source": [
        "Add Fully Connected Layer - 128 neurons"
      ]
    },
    {
      "metadata": {
        "id": "sZqPkAp6mPbP",
        "colab_type": "code",
        "colab": {}
      },
      "cell_type": "code",
      "source": [
        "model.add(Dense(128,activation='relu')) #128 neurons randomly selected"
      ],
      "execution_count": 0,
      "outputs": []
    },
    {
      "metadata": {
        "id": "W0Ip5QqCmPbS",
        "colab_type": "text"
      },
      "cell_type": "markdown",
      "source": [
        "Another Dropout"
      ]
    },
    {
      "metadata": {
        "id": "Z6G9NSKpmPbT",
        "colab_type": "code",
        "colab": {}
      },
      "cell_type": "code",
      "source": [
        "model.add(Dropout(0.5))"
      ],
      "execution_count": 0,
      "outputs": []
    },
    {
      "metadata": {
        "id": "BLINBw9SmPbV",
        "colab_type": "text"
      },
      "cell_type": "markdown",
      "source": [
        "Add Softmax Layer"
      ]
    },
    {
      "metadata": {
        "id": "NP5Ln9AvmPbW",
        "colab_type": "code",
        "colab": {}
      },
      "cell_type": "code",
      "source": [
        "model.add(Dense(10,activation='softmax'))"
      ],
      "execution_count": 0,
      "outputs": []
    },
    {
      "metadata": {
        "id": "E_OlAIKqmPbY",
        "colab_type": "text"
      },
      "cell_type": "markdown",
      "source": [
        "Compile model    "
      ]
    },
    {
      "metadata": {
        "id": "qIOi9FV_mPbY",
        "colab_type": "code",
        "colab": {}
      },
      "cell_type": "code",
      "source": [
        "model.compile(optimizer='adam',loss='categorical_crossentropy',metrics=['accuracy'])"
      ],
      "execution_count": 0,
      "outputs": []
    },
    {
      "metadata": {
        "id": "oIGuXZYdmPba",
        "colab_type": "text"
      },
      "cell_type": "markdown",
      "source": [
        "Train"
      ]
    },
    {
      "metadata": {
        "id": "Npncvy3tmPbb",
        "colab_type": "code",
        "colab": {
          "base_uri": "https://localhost:8080/",
          "height": 1601
        },
        "outputId": "45d03df0-1569-4219-fd09-6698defc98ef"
      },
      "cell_type": "code",
      "source": [
        "model.fit(trainX,trainY,epochs=30,batch_size=100,\n",
        "          validation_data=(testX,testY),\n",
        "         callbacks=[TensorBoard(log_dir='/tmp/mnist/keras/cnn/v1')])"
      ],
      "execution_count": 22,
      "outputs": [
        {
          "output_type": "stream",
          "text": [
            "Train on 55000 samples, validate on 10000 samples\n",
            "Epoch 1/30\n",
            "55000/55000 [==============================]55000/55000 [==============================] - 13s 233us/step - loss: 0.2281 - acc: 0.9303 - val_loss: 0.0521 - val_acc: 0.9844\n",
            "\n",
            "Epoch 2/30\n",
            "51900/55000 [===========================>..]51900/55000 [===========================>..] - ETA: 0s - loss: 0.0860 - acc: 0.9748"
          ],
          "name": "stdout"
        },
        {
          "output_type": "stream",
          "text": [
            "55000/55000 [==============================]55000/55000 [==============================] - 12s 211us/step - loss: 0.0853 - acc: 0.9749 - val_loss: 0.0415 - val_acc: 0.9863\n",
            "\n",
            "Epoch 3/30\n",
            "55000/55000 [==============================]55000/55000 [==============================] - 12s 210us/step - loss: 0.0615 - acc: 0.9820 - val_loss: 0.0344 - val_acc: 0.9888\n",
            "\n",
            "Epoch 4/30\n",
            "24600/55000 [============>.................]24600/55000 [============>.................] - ETA: 6s - loss: 0.0564 - acc: 0.9823"
          ],
          "name": "stdout"
        },
        {
          "output_type": "stream",
          "text": [
            "55000/55000 [==============================]55000/55000 [==============================] - 12s 212us/step - loss: 0.0524 - acc: 0.9842 - val_loss: 0.0299 - val_acc: 0.9907\n",
            "\n",
            "Epoch 5/30\n",
            "55000/55000 [==============================]55000/55000 [==============================] - 12s 211us/step - loss: 0.0430 - acc: 0.9868 - val_loss: 0.0287 - val_acc: 0.9910\n",
            "\n",
            "Epoch 6/30\n",
            "17500/55000 [========>.....................]17500/55000 [========>.....................] - ETA: 7s - loss: 0.0335 - acc: 0.9890"
          ],
          "name": "stdout"
        },
        {
          "output_type": "stream",
          "text": [
            "55000/55000 [==============================]55000/55000 [==============================] - 12s 211us/step - loss: 0.0373 - acc: 0.9882 - val_loss: 0.0288 - val_acc: 0.9911\n",
            "\n",
            "Epoch 7/30\n",
            "55000/55000 [==============================]55000/55000 [==============================] - 12s 211us/step - loss: 0.0325 - acc: 0.9893 - val_loss: 0.0297 - val_acc: 0.9923\n",
            "\n",
            "Epoch 8/30\n",
            "15700/55000 [=======>......................]15700/55000 [=======>......................] - ETA: 7s - loss: 0.0266 - acc: 0.9903"
          ],
          "name": "stdout"
        },
        {
          "output_type": "stream",
          "text": [
            "55000/55000 [==============================]55000/55000 [==============================] - 12s 211us/step - loss: 0.0313 - acc: 0.9894 - val_loss: 0.0266 - val_acc: 0.9922\n",
            "\n",
            "Epoch 9/30\n",
            "55000/55000 [==============================]55000/55000 [==============================] - 12s 211us/step - loss: 0.0271 - acc: 0.9914 - val_loss: 0.0266 - val_acc: 0.9926\n",
            "\n",
            "Epoch 10/30\n",
            "15400/55000 [=======>......................]15400/55000 [=======>......................] - ETA: 7s - loss: 0.0230 - acc: 0.9923"
          ],
          "name": "stdout"
        },
        {
          "output_type": "stream",
          "text": [
            "55000/55000 [==============================]55000/55000 [==============================] - 12s 211us/step - loss: 0.0252 - acc: 0.9919 - val_loss: 0.0287 - val_acc: 0.9913\n",
            "\n",
            "Epoch 11/30\n",
            "55000/55000 [==============================]55000/55000 [==============================] - 12s 213us/step - loss: 0.0226 - acc: 0.9924 - val_loss: 0.0258 - val_acc: 0.9930\n",
            "\n",
            "Epoch 12/30\n",
            "14800/55000 [=======>......................]14800/55000 [=======>......................] - ETA: 8s - loss: 0.0182 - acc: 0.9943"
          ],
          "name": "stdout"
        },
        {
          "output_type": "stream",
          "text": [
            "55000/55000 [==============================]55000/55000 [==============================] - 12s 213us/step - loss: 0.0203 - acc: 0.9934 - val_loss: 0.0314 - val_acc: 0.9915\n",
            "\n",
            "Epoch 13/30\n",
            "55000/55000 [==============================]55000/55000 [==============================] - 12s 210us/step - loss: 0.0194 - acc: 0.9937 - val_loss: 0.0254 - val_acc: 0.9930\n",
            "\n",
            "Epoch 14/30\n",
            "15100/55000 [=======>......................]15100/55000 [=======>......................] - ETA: 7s - loss: 0.0165 - acc: 0.9946"
          ],
          "name": "stdout"
        },
        {
          "output_type": "stream",
          "text": [
            "55000/55000 [==============================]55000/55000 [==============================] - 12s 211us/step - loss: 0.0177 - acc: 0.9939 - val_loss: 0.0290 - val_acc: 0.9918\n",
            "\n",
            "Epoch 15/30\n",
            "55000/55000 [==============================]55000/55000 [==============================] - 12s 210us/step - loss: 0.0176 - acc: 0.9939 - val_loss: 0.0285 - val_acc: 0.9930\n",
            "\n",
            "Epoch 16/30\n",
            "14800/55000 [=======>......................]14800/55000 [=======>......................] - ETA: 8s - loss: 0.0158 - acc: 0.9950"
          ],
          "name": "stdout"
        },
        {
          "output_type": "stream",
          "text": [
            "55000/55000 [==============================]55000/55000 [==============================] - 12s 211us/step - loss: 0.0159 - acc: 0.9949 - val_loss: 0.0288 - val_acc: 0.9928\n",
            "\n",
            "Epoch 17/30\n",
            "55000/55000 [==============================]55000/55000 [==============================] - 12s 211us/step - loss: 0.0158 - acc: 0.9947 - val_loss: 0.0273 - val_acc: 0.9928\n",
            "\n",
            "Epoch 18/30\n",
            "14700/55000 [=======>......................]14700/55000 [=======>......................] - ETA: 8s - loss: 0.0107 - acc: 0.9961"
          ],
          "name": "stdout"
        },
        {
          "output_type": "stream",
          "text": [
            "55000/55000 [==============================]55000/55000 [==============================] - 12s 211us/step - loss: 0.0149 - acc: 0.9949 - val_loss: 0.0280 - val_acc: 0.9930\n",
            "\n",
            "Epoch 19/30\n",
            "55000/55000 [==============================]55000/55000 [==============================] - 12s 211us/step - loss: 0.0148 - acc: 0.9950 - val_loss: 0.0331 - val_acc: 0.9922\n",
            "\n",
            "Epoch 20/30\n",
            "14800/55000 [=======>......................]14800/55000 [=======>......................] - ETA: 8s - loss: 0.0105 - acc: 0.9965"
          ],
          "name": "stdout"
        },
        {
          "output_type": "stream",
          "text": [
            "55000/55000 [==============================]55000/55000 [==============================] - 12s 211us/step - loss: 0.0140 - acc: 0.9955 - val_loss: 0.0312 - val_acc: 0.9924\n",
            "\n",
            "Epoch 21/30\n",
            "55000/55000 [==============================]55000/55000 [==============================] - 12s 212us/step - loss: 0.0133 - acc: 0.9955 - val_loss: 0.0316 - val_acc: 0.9919\n",
            "\n",
            "Epoch 22/30\n",
            "14800/55000 [=======>......................]14800/55000 [=======>......................] - ETA: 8s - loss: 0.0126 - acc: 0.9961"
          ],
          "name": "stdout"
        },
        {
          "output_type": "stream",
          "text": [
            "55000/55000 [==============================]55000/55000 [==============================] - 12s 212us/step - loss: 0.0130 - acc: 0.9958 - val_loss: 0.0271 - val_acc: 0.9927\n",
            "\n",
            "Epoch 23/30\n",
            "55000/55000 [==============================]55000/55000 [==============================] - 12s 213us/step - loss: 0.0102 - acc: 0.9964 - val_loss: 0.0340 - val_acc: 0.9923\n",
            "\n",
            "Epoch 24/30\n",
            "14000/55000 [======>.......................]14000/55000 [======>.......................] - ETA: 8s - loss: 0.0120 - acc: 0.9960"
          ],
          "name": "stdout"
        },
        {
          "output_type": "stream",
          "text": [
            "55000/55000 [==============================]55000/55000 [==============================] - 12s 211us/step - loss: 0.0124 - acc: 0.9958 - val_loss: 0.0303 - val_acc: 0.9936\n",
            "\n",
            "Epoch 25/30\n",
            "55000/55000 [==============================]55000/55000 [==============================] - 12s 210us/step - loss: 0.0121 - acc: 0.9960 - val_loss: 0.0311 - val_acc: 0.9928\n",
            "\n",
            "Epoch 26/30\n",
            "14800/55000 [=======>......................]14800/55000 [=======>......................] - ETA: 8s - loss: 0.0128 - acc: 0.9949"
          ],
          "name": "stdout"
        },
        {
          "output_type": "stream",
          "text": [
            "55000/55000 [==============================]55000/55000 [==============================] - 12s 211us/step - loss: 0.0105 - acc: 0.9961 - val_loss: 0.0332 - val_acc: 0.9936\n",
            "\n",
            "Epoch 27/30\n",
            "55000/55000 [==============================]55000/55000 [==============================] - 12s 212us/step - loss: 0.0119 - acc: 0.9962 - val_loss: 0.0351 - val_acc: 0.9926\n",
            "\n",
            "Epoch 28/30\n",
            "15100/55000 [=======>......................]15100/55000 [=======>......................] - ETA: 8s - loss: 0.0086 - acc: 0.9972"
          ],
          "name": "stdout"
        },
        {
          "output_type": "stream",
          "text": [
            "55000/55000 [==============================]55000/55000 [==============================] - 12s 212us/step - loss: 0.0101 - acc: 0.9965 - val_loss: 0.0332 - val_acc: 0.9932\n",
            "\n",
            "Epoch 29/30\n",
            "55000/55000 [==============================]55000/55000 [==============================] - 12s 211us/step - loss: 0.0102 - acc: 0.9966 - val_loss: 0.0345 - val_acc: 0.9931\n",
            "\n",
            "Epoch 30/30\n",
            "14800/55000 [=======>......................]14800/55000 [=======>......................] - ETA: 8s - loss: 0.0080 - acc: 0.9971"
          ],
          "name": "stdout"
        },
        {
          "output_type": "stream",
          "text": [
            "55000/55000 [==============================]55000/55000 [==============================] - 12s 211us/step - loss: 0.0092 - acc: 0.9968 - val_loss: 0.0345 - val_acc: 0.9926\n",
            "\n"
          ],
          "name": "stdout"
        },
        {
          "output_type": "execute_result",
          "data": {
            "text/plain": [
              "<tensorflow.python.keras._impl.keras.callbacks.History at 0x7efe67d31c50>"
            ]
          },
          "metadata": {
            "tags": []
          },
          "execution_count": 22
        }
      ]
    },
    {
      "metadata": {
        "id": "IVNt9983mPbd",
        "colab_type": "text"
      },
      "cell_type": "markdown",
      "source": [
        "Saving Model as HDF5 file"
      ]
    },
    {
      "metadata": {
        "id": "1RjQZ77umPbe",
        "colab_type": "code",
        "colab": {}
      },
      "cell_type": "code",
      "source": [
        "model.save('/tmp/mnist/keras_cnn.h5')"
      ],
      "execution_count": 0,
      "outputs": []
    },
    {
      "metadata": {
        "id": "PizcrFEBmPbj",
        "colab_type": "code",
        "colab": {
          "base_uri": "https://localhost:8080/",
          "height": 442
        },
        "outputId": "0aff5e99-4c6a-49e5-f45f-31ffcf93a8af"
      },
      "cell_type": "code",
      "source": [
        "model.summary()"
      ],
      "execution_count": 23,
      "outputs": [
        {
          "output_type": "stream",
          "text": [
            "_________________________________________________________________\n",
            "Layer (type)                 Output Shape              Param #   \n",
            "=================================================================\n",
            "reshape_1 (Reshape)          (None, 28, 28, 1)         0         \n",
            "_________________________________________________________________\n",
            "conv2d_1 (Conv2D)            (None, 26, 26, 32)        320       \n",
            "_________________________________________________________________\n",
            "conv2d_2 (Conv2D)            (None, 24, 24, 64)        18496     \n",
            "_________________________________________________________________\n",
            "max_pooling2d_1 (MaxPooling2 (None, 12, 12, 64)        0         \n",
            "_________________________________________________________________\n",
            "dropout_1 (Dropout)          (None, 12, 12, 64)        0         \n",
            "_________________________________________________________________\n",
            "flatten_1 (Flatten)          (None, 9216)              0         \n",
            "_________________________________________________________________\n",
            "dense_1 (Dense)              (None, 128)               1179776   \n",
            "_________________________________________________________________\n",
            "dropout_2 (Dropout)          (None, 128)               0         \n",
            "_________________________________________________________________\n",
            "dense_2 (Dense)              (None, 10)                1290      \n",
            "=================================================================\n",
            "Total params: 1,199,882\n",
            "Trainable params: 1,199,882\n",
            "Non-trainable params: 0\n",
            "_________________________________________________________________\n"
          ],
          "name": "stdout"
        }
      ]
    }
  ]
}