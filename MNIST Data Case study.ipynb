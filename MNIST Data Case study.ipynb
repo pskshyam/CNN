{
 "cells": [
  {
   "cell_type": "markdown",
   "metadata": {
    "deletable": true,
    "editable": true
   },
   "source": [
    "## MNIST\n",
    "They say MNIST data is the 'hello world' of deeplearning.\n",
    "The input is a collection of images of hand-written digits and the target is the digit itself.\n",
    "Historically, this data was used to train algorithms which could then automatically predict the \n",
    "zip-code digits on the posts.\n",
    "Let's understand the data before you create your first neural network for digit recognition\n",
    "\n",
    "The data set has 60000 rows (each row is an 'image') and 785 attributes\n",
    "The the first 784 are pixel values which are unrolled row wise , while the last attribute/column is the target\n",
    "Hence,\n",
    "pixel0 - pixel27 are pixel values of the first row in the image,   \n",
    "pixel28 - pixel55 are pixel values of the second row in the image,  \n",
    "and so on... for 28 rows of pixels values"
   ]
  },
  {
   "cell_type": "code",
   "execution_count": 1,
   "metadata": {
    "collapsed": false,
    "deletable": true,
    "editable": true
   },
   "outputs": [
    {
     "name": "stdout",
     "output_type": "stream",
     "text": [
      "(60000, 785)\n",
      "Index(['pixel0', 'pixel1', 'pixel2', 'pixel3', 'pixel4', 'pixel5', 'pixel6',\n",
      "       'pixel7', 'pixel8', 'pixel9',\n",
      "       ...\n",
      "       'pixel775', 'pixel776', 'pixel777', 'pixel778', 'pixel779', 'pixel780',\n",
      "       'pixel781', 'pixel782', 'pixel783', 'label'],\n",
      "      dtype='object', length=785)\n"
     ]
    }
   ],
   "source": [
    "import numpy as np        \n",
    "import pandas as pd\n",
    "#read the data\n",
    "train = pd.read_csv('D:/DataScience/AdvancedML/NeuralNeworks/MNIST Train Test/train.csv')\n",
    "print(train.shape)\n",
    "print(train.columns)"
   ]
  },
  {
   "cell_type": "markdown",
   "metadata": {
    "deletable": true,
    "editable": true
   },
   "source": [
    "### Visualization\n",
    "Let's pick a random row (1433) and view the image corresponding to that row.\n",
    "Change the row number between 0 and 59999 to understand how "
   ]
  },
  {
   "cell_type": "code",
   "execution_count": 4,
   "metadata": {
    "collapsed": false,
    "deletable": true,
    "editable": true
   },
   "outputs": [
    {
     "name": "stdout",
     "output_type": "stream",
     "text": [
      "[[  0   0   0   0   0   0   0   0   0   0   0   0   0   0   0   0   0   0\n",
      "    0   0   0   0   0   0   0   0   0   0]\n",
      " [  0   0   0   0   0   0   0   0   0   0   0   0   0   0   0   0   0   0\n",
      "    0   0   0   0   0   0   0   0   0   0]\n",
      " [  0   0   0   0   0   0   0   0   0   0   0   0   0   0   0   0   0   0\n",
      "    0   0   0   0   0   0   0   0   0   0]\n",
      " [  0   0   0   0   0   0   0   0   0   0   0   0   0   0   0   0   0   0\n",
      "    0   0   0   0   0   0   0   0   0   0]\n",
      " [  0   0   0   0   0   0   0   0   0   0   0 114 159 253 159 113  51 159\n",
      "  143  38   0   0   0   0   0   0   0   0]\n",
      " [  0   0   0   0   0   0   0   0  67 178 225 253 252 252 252 252 238 252\n",
      "  252  84   0   0   0   0   0   0   0   0]\n",
      " [  0   0   0   0   0   0   0 176 240 252 252 228 148  55  55  55 253 233\n",
      "  195  65   0   0   0   0   0   0   0   0]\n",
      " [  0   0   0   0   0   0  92 243 252 233 145  47   0   0   0   0  84  56\n",
      "    0   0   0   0   0   0   4  29   0   0]\n",
      " [  0   0   0   0   0   0 253 252 252  84   0   0   0   0   0   0   0   0\n",
      "    0   0   0   0   0  32 153 252   0   0]\n",
      " [  0   0   0   0   0   0 255 253 253 159 113   0   0   0   0   0   0   0\n",
      "    0   0  63 255 253 253 240 140   0   0]\n",
      " [  0   0   0   0   0   0  27 181 252 252 252 163  57   0   0   0   0  76\n",
      "  225 225 240 253 223 136  24   0   0   0]\n",
      " [  0   0   0   0   0   0   0  19 165 233 252 253 233 165  57  57 198 215\n",
      "  252 245 195  56  37   0   0   0   0   0]\n",
      " [  0   0   0   0   0   0   0   0   0  56 161 253 252 252 252 252 253 252\n",
      "  198  74   0   0   0   0   0   0   0   0]\n",
      " [  0   0   0   0   0   0   0   0   0   0   0 253 252 252 252 252 253 204\n",
      "   25   0   0   0   0   0   0   0   0   0]\n",
      " [  0   0   0   0   0   0   0   0   0  76 191 255 253 253 253 253 255 168\n",
      "    0   0   0   0   0   0   0   0   0   0]\n",
      " [  0   0   0   0   0   0   0   0  51 243 252 253 176  58 130 252 253 243\n",
      "   97   0   0   0   0   0   0   0   0   0]\n",
      " [  0   0   0   0   0   0   0   0 166 252 220  56   6   0   7 133 253 252\n",
      "  239  66   0   0   0   0   0   0   0   0]\n",
      " [  0   0   0   0   0   0   0   0 197 252 112   0   0   0   0   0 237 252\n",
      "  252 177   0   0   0   0   0   0   0   0]\n",
      " [  0   0   0   0   0   0   0   0 197 252 189   0   0   0   0   0  50 237\n",
      "  252 223   0   0   0   0   0   0   0   0]\n",
      " [  0   0   0   0   0   0   0   0 135 253 253  63   0   0   0   0   0 226\n",
      "  253 253 112   0   0   0   0   0   0   0]\n",
      " [  0   0   0   0   0   0   0   0  38 224 252 241 178  85  85  85 147 249\n",
      "  252 252 112   0   0   0   0   0   0   0]\n",
      " [  0   0   0   0   0   0   0   0   0 137 252 253 252 252 252 252 253 252\n",
      "  252 230  25   0   0   0   0   0   0   0]\n",
      " [  0   0   0   0   0   0   0   0   0  10 161 253 252 252 252 252 253 252\n",
      "  245 121   0   0   0   0   0   0   0   0]\n",
      " [  0   0   0   0   0   0   0   0   0   0   0 112 158 252 173 252 253 127\n",
      "   87   0   0   0   0   0   0   0   0   0]\n",
      " [  0   0   0   0   0   0   0   0   0   0   0   0   0   0   0   0   0   0\n",
      "    0   0   0   0   0   0   0   0   0   0]\n",
      " [  0   0   0   0   0   0   0   0   0   0   0   0   0   0   0   0   0   0\n",
      "    0   0   0   0   0   0   0   0   0   0]\n",
      " [  0   0   0   0   0   0   0   0   0   0   0   0   0   0   0   0   0   0\n",
      "    0   0   0   0   0   0   0   0   0   0]\n",
      " [  0   0   0   0   0   0   0   0   0   0   0   0   0   0   0   0   0   0\n",
      "    0   0   0   0   0   0   0   0   0   0]]\n"
     ]
    },
    {
     "data": {
      "text/plain": [
       "<matplotlib.image.AxesImage at 0x2938686c5c0>"
      ]
     },
     "execution_count": 4,
     "metadata": {},
     "output_type": "execute_result"
    },
    {
     "data": {
      "image/png": "[encoded data removed]",
      "text/plain": [
       "<matplotlib.figure.Figure at 0x2938600ba58>"
      ]
     },
     "metadata": {},
     "output_type": "display_data"
    }
   ],
   "source": [
    "sample_row = 1433 #Some row picked\n",
    "\n",
    "sample_row = train.iloc[sample_row,:-1] # We skip the last column because it's the target column\n",
    "transformed_row = sample_row.values.reshape(28, 28) # reshape to 28*28\n",
    "print(transformed_row)\n",
    "# now plot the image with matplotlib\n",
    "import matplotlib.pyplot as plt\n",
    "%matplotlib inline\n",
    "plt.imshow(transformed_row, cmap = 'gray_r')\n"
   ]
  },
  {
   "cell_type": "markdown",
   "metadata": {
    "deletable": true,
    "editable": true
   },
   "source": [
    "Build a neural network on the train dataset of MNIST images\n",
    "\n",
    "\n",
    "Here are some things you could experiment with \n",
    "* Number of layers\n",
    "* Size of each layer\n",
    "* Activation of each layer\n",
    "* Learning rate\n",
    "\n",
    "The accuracy on test dataset should exceed 95% \n",
    "\n"
   ]
  },
  {
   "cell_type": "code",
   "execution_count": 5,
   "metadata": {
    "collapsed": false,
    "deletable": true,
    "editable": true
   },
   "outputs": [
    {
     "name": "stderr",
     "output_type": "stream",
     "text": [
      "C:\\ProgramData\\Anaconda3\\lib\\site-packages\\h5py\\__init__.py:36: FutureWarning: Conversion of the second argument of issubdtype from `float` to `np.floating` is deprecated. In future, it will be treated as `np.float64 == np.dtype(float).type`.\n",
      "  from ._conv import register_converters as _register_converters\n",
      "Using TensorFlow backend.\n"
     ]
    }
   ],
   "source": [
    "X = train.drop(['label'], axis = 1, inplace=False)  # store pixel values in X\n",
    "y = train['label']                                  # store the label in y\n",
    "\n",
    "# import np_utils\n",
    "from keras.utils import np_utils\n",
    "y_cat = np_utils.to_categorical(y)                  # change the target variable as a categorical variable\n",
    "\n",
    "# now split the data to train and validation \n",
    "import sklearn\n",
    "from sklearn.model_selection import train_test_split    \n",
    "X_train, X_val, y_train, y_val = train_test_split(X, y_cat, test_size = 0.33, random_state = 33)\n",
    "\n",
    "# store as numpy arrays\n",
    "X_train = np.array(X_train)\n",
    "y_train = np.array(y_train)\n",
    "X_val = np.array(X_val)\n",
    "y_val = np.array(y_val)"
   ]
  },
  {
   "cell_type": "code",
   "execution_count": 7,
   "metadata": {
    "collapsed": false,
    "deletable": true,
    "editable": true
   },
   "outputs": [
    {
     "name": "stdout",
     "output_type": "stream",
     "text": [
      "Index(['pixel0', 'pixel1', 'pixel2', 'pixel3', 'pixel4', 'pixel5', 'pixel6',\n",
      "       'pixel7', 'pixel8', 'pixel9',\n",
      "       ...\n",
      "       'pixel775', 'pixel776', 'pixel777', 'pixel778', 'pixel779', 'pixel780',\n",
      "       'pixel781', 'pixel782', 'pixel783', 'label'],\n",
      "      dtype='object', length=785)\n"
     ]
    }
   ],
   "source": [
    "# read the test data\n",
    "test = pd.read_csv('D:/DataScience/AdvancedML/NeuralNeworks/MNIST Train Test/test.csv')\n",
    "\n",
    "print(test.columns)\n",
    "# pixels and target \n",
    "X_test = test.drop(['label'], axis = 1, inplace=False)\n",
    "y_test = test['label']\n",
    "\n",
    "# to categorical\n",
    "y_test_cat = np_utils.to_categorical(y_test)\n",
    "\n",
    "# numpy arrays\n",
    "X_test = np.array(X_test)\n",
    "y_test_cat = np.array(y_test_cat)"
   ]
  },
  {
   "cell_type": "code",
   "execution_count": 8,
   "metadata": {
    "collapsed": true,
    "deletable": true,
    "editable": true
   },
   "outputs": [],
   "source": [
    "# import required packages\n",
    "from keras.models import Sequential    # model       \n",
    "from keras.layers import Dense         # layer\n",
    "from keras.optimizers import Adam      # Optimizer"
   ]
  },
  {
   "cell_type": "markdown",
   "metadata": {},
   "source": [
    "Lets build a model with out any hidden layer"
   ]
  },
  {
   "cell_type": "code",
   "execution_count": 10,
   "metadata": {
    "collapsed": false,
    "deletable": true,
    "editable": true
   },
   "outputs": [
    {
     "name": "stderr",
     "output_type": "stream",
     "text": [
      "C:\\ProgramData\\Anaconda3\\lib\\site-packages\\ipykernel\\__main__.py:2: UserWarning: Update your `Dense` call to the Keras 2 API: `Dense(200, input_dim=784, activation=\"relu\", kernel_initializer=\"uniform\")`\n",
      "  from ipykernel import kernelapp as app\n",
      "C:\\ProgramData\\Anaconda3\\lib\\site-packages\\ipykernel\\__main__.py:3: UserWarning: Update your `Dense` call to the Keras 2 API: `Dense(100, activation=\"relu\", kernel_initializer=\"uniform\")`\n",
      "  app.launch_new_instance()\n"
     ]
    },
    {
     "name": "stdout",
     "output_type": "stream",
     "text": [
      "WARNING:tensorflow:From C:\\ProgramData\\Anaconda3\\lib\\site-packages\\keras\\backend\\tensorflow_backend.py:2857: calling reduce_sum (from tensorflow.python.ops.math_ops) with keep_dims is deprecated and will be removed in a future version.\n",
      "Instructions for updating:\n",
      "keep_dims is deprecated, use keepdims instead\n",
      "WARNING:tensorflow:From C:\\ProgramData\\Anaconda3\\lib\\site-packages\\keras\\backend\\tensorflow_backend.py:1340: calling reduce_mean (from tensorflow.python.ops.math_ops) with keep_dims is deprecated and will be removed in a future version.\n",
      "Instructions for updating:\n",
      "keep_dims is deprecated, use keepdims instead\n",
      "_________________________________________________________________\n",
      "Layer (type)                 Output Shape              Param #   \n",
      "=================================================================\n",
      "dense_1 (Dense)              (None, 200)               157000    \n",
      "_________________________________________________________________\n",
      "dense_2 (Dense)              (None, 100)               20100     \n",
      "_________________________________________________________________\n",
      "dense_3 (Dense)              (None, 10)                1010      \n",
      "=================================================================\n",
      "Total params: 178,110\n",
      "Trainable params: 178,110\n",
      "Non-trainable params: 0\n",
      "_________________________________________________________________\n"
     ]
    }
   ],
   "source": [
    "hidden_model = Sequential()  # initiate the model\n",
    "hidden_model.add(Dense(200, init='uniform', input_dim = 784, activation='relu')) # input layer\n",
    "hidden_model.add(Dense(100, init='uniform', activation='relu'))                  # hidden layer\n",
    "hidden_model.add(Dense(10, activation = 'softmax'))                              #output layer\n",
    "hidden_model.compile(loss = 'categorical_crossentropy', optimizer = Adam(lr = 0.001), metrics = ['accuracy'])\n",
    "\n",
    "hidden_model.summary()"
   ]
  },
  {
   "cell_type": "code",
   "execution_count": 12,
   "metadata": {
    "collapsed": false,
    "deletable": true,
    "editable": true
   },
   "outputs": [
    {
     "name": "stdout",
     "output_type": "stream",
     "text": [
      "Train on 40200 samples, validate on 19800 samples\n",
      "Epoch 1/20\n",
      " - 4s - loss: 0.0470 - acc: 0.9906 - val_loss: 0.2202 - val_acc: 0.9519\n",
      "Epoch 2/20\n",
      " - 4s - loss: 0.0433 - acc: 0.9916 - val_loss: 0.2197 - val_acc: 0.9520\n",
      "Epoch 3/20\n",
      " - 4s - loss: 0.0396 - acc: 0.9928 - val_loss: 0.2193 - val_acc: 0.9521\n",
      "Epoch 4/20\n",
      " - 4s - loss: 0.0364 - acc: 0.9937 - val_loss: 0.2174 - val_acc: 0.9528\n",
      "Epoch 5/20\n",
      " - 4s - loss: 0.0335 - acc: 0.9946 - val_loss: 0.2187 - val_acc: 0.9526\n",
      "Epoch 6/20\n",
      " - 3s - loss: 0.0313 - acc: 0.9951 - val_loss: 0.2166 - val_acc: 0.9533\n",
      "Epoch 7/20\n",
      " - 4s - loss: 0.0291 - acc: 0.9959 - val_loss: 0.2167 - val_acc: 0.9540\n",
      "Epoch 8/20\n",
      " - 3s - loss: 0.0272 - acc: 0.9964 - val_loss: 0.2179 - val_acc: 0.9534\n",
      "Epoch 9/20\n",
      " - 3s - loss: 0.0256 - acc: 0.9970 - val_loss: 0.2158 - val_acc: 0.9540\n",
      "Epoch 10/20\n",
      " - 4s - loss: 0.0241 - acc: 0.9972 - val_loss: 0.2176 - val_acc: 0.9539\n",
      "Epoch 11/20\n",
      " - 4s - loss: 0.0227 - acc: 0.9976 - val_loss: 0.2171 - val_acc: 0.9542\n",
      "Epoch 12/20\n",
      " - 3s - loss: 0.0216 - acc: 0.9979 - val_loss: 0.2161 - val_acc: 0.9549\n",
      "Epoch 13/20\n",
      " - 3s - loss: 0.0205 - acc: 0.9982 - val_loss: 0.2174 - val_acc: 0.9553\n",
      "Epoch 14/20\n",
      " - 3s - loss: 0.0196 - acc: 0.9984 - val_loss: 0.2161 - val_acc: 0.9546\n",
      "Epoch 15/20\n",
      " - 3s - loss: 0.0186 - acc: 0.9986 - val_loss: 0.2159 - val_acc: 0.9553\n",
      "Epoch 16/20\n",
      " - 3s - loss: 0.0179 - acc: 0.9987 - val_loss: 0.2166 - val_acc: 0.9556\n",
      "Epoch 17/20\n",
      " - 4s - loss: 0.0172 - acc: 0.9987 - val_loss: 0.2163 - val_acc: 0.9555\n",
      "Epoch 18/20\n",
      " - 4s - loss: 0.0165 - acc: 0.9989 - val_loss: 0.2170 - val_acc: 0.9558\n",
      "Epoch 19/20\n",
      " - 3s - loss: 0.0158 - acc: 0.9990 - val_loss: 0.2160 - val_acc: 0.9559\n",
      "Epoch 20/20\n",
      " - 4s - loss: 0.0152 - acc: 0.9991 - val_loss: 0.2173 - val_acc: 0.9558\n"
     ]
    }
   ],
   "source": [
    "# train the model\n",
    "history2 = hidden_model.fit(X_train, y_train, batch_size=6000, epochs=20, verbose = 2, \n",
    "                    validation_data=(X_val, y_val))"
   ]
  },
  {
   "cell_type": "code",
   "execution_count": 13,
   "metadata": {
    "collapsed": false,
    "deletable": true,
    "editable": true
   },
   "outputs": [
    {
     "data": {
      "text/plain": [
       "<matplotlib.legend.Legend at 0x293dbf52b70>"
      ]
     },
     "execution_count": 13,
     "metadata": {},
     "output_type": "execute_result"
    },
    {
     "data": {
      "image/png": "[encoded data removed]",
      "text/plain": [
       "<matplotlib.figure.Figure at 0x293dc134b00>"
      ]
     },
     "metadata": {},
     "output_type": "display_data"
    }
   ],
   "source": [
    "plt.figure(figsize=(15,10))\n",
    "plt.plot(history2.history['loss'], label = 'train loss')\n",
    "plt.plot(history2.history['val_loss'], label = 'val loss')\n",
    "plt.legend()"
   ]
  },
  {
   "cell_type": "code",
   "execution_count": 14,
   "metadata": {
    "collapsed": false,
    "deletable": true,
    "editable": true
   },
   "outputs": [
    {
     "name": "stdout",
     "output_type": "stream",
     "text": [
      "10000/10000 [==============================] - 1s 84us/step\b\b\b\b\b\b\b\b\b\b\b\b\b\b\b\b\b\b\b\b\b\b\b\b\b\b\b\b\b\b\b\b\b\b\b\b\b\b\b\b\b\b\b\b\b\b\b\b\b\b\b\b\b\b\b\b\b\b\b\b\b\b\b\b\b\b\b\b\b\b\b\b\b\b\b\b\b\b\b\b\b\b\b\b\b\b\b\b\b\b\b\b\b\b\b\b\b\b\b\b\b\b\b\b\b\b\b\b\b\b\b\b\b\b\b\b\b\b\b\b\b\b\b\b\b\b\b\b\b\b\b\b\b\b\b\b\b\b\b\b\b\b\b\b\b\b\b\b\b\b\b\b\b\b\b\b\b\b\b\b\b\b\b\b\b\b\b\b\b\b\b\b\b\b\b\b\b\b\b\b\b\b\b\b\b\b\b\b\b\b\b\b\b\b\b\b\b\b\b\b\b\b\b\b\b\b\b\b\b\b\b\b\b\b\b\b\b\b\b\b\b\b\b\b\b\b\b\b\b\b\b\b\b\b\b\b\b\b\b\b\b\b\b\b\b\b\b\b\b\b\b\b\b\b\b\b\b\b\b\b\b\b\b\b\b\b\b\b\b\b\b\b\b\b\b\b\b\b\b\b\b\b\b\b\b\b\b\b\b\b\b\b\b\b\b\b\b\b\b\b\b\b\b\b\b\b\b\b\b\b\b\b\b\b\b\b\b\b\b\b\b\b\b\b\b\b\b\b\b\b\b\b\b\b\b\b\b\b\b\b\b\b\b\b\b\b\b\b\b\b\b\b\b\b\b\b\b\b\b\b\b\b\b\b\b\b\b\b\b\b\b\b\b\b\b\b\b\b\b\b\b\b\b\b\b\b\b\b\b\b\b\b\b\b\b\b\b\b\b\b\b\b\b\b\b\b\b\b\b\b\b\b\b\b\b\b\b\b\b\b\b\b\b\b\b\b\b\b\b\b\b\b\b\b\b\b\b\b\b\b\b\b\b\b\b\b\b\b\b\b\b\b\b\b\b\b\b\b\b\b\b\b\b\b\b\b\b\b\b\b\b\b\b\b\b\b\b\b\b\b\b\b\b\b\b\b\b\b\b\b\b\b\b\b\b\b\b\b\b\b\b\b\b\b\b\b\b\b\b\b\b\b\b\b\b\b\b\b\b\b\b\b\b\b\b\b\b\b\b\b\b\b\b\b\b\b\b\b\b\b\b\b\b\b\b\b\b\b\b\b\b\b\b\b\b\b\b\b\b\b\b\b\b\b\b\b\b\b\b\b\b\b\b\b\b\b\b\b\b\b\b\b\b\b\b\b\b\b\b\b\b\b\b\b\b\b\b\b\b\b\b\b\b\b\b\b\b\b\b\b\b\b\b\b\b\b\b\b\b\b\b\b\b\b\b\b\b\b\b\b\b\b\b\b\b\b\b\b\b\b\b\b\b\b\b\b\b\b\b\b\b\b\b\b\b\b\b\b\b\b\b\b\b\b\b\b\b\b\b\b\b\b\b\b\b\b\b\b\b\b\b\b\b\b\b\b\b\b\b\b\b\b\b\b\b\b\b\b\b\b\b\b\b\b\b\b\b\b\b\b\b\b\b\b\b\b\b\b\b\b\b\b\b\b\b\b\b\b\b\b\b\b\b\b\b\b\b\b\b\b\b\b\b\b\b\b\b\b\b\b\b\b\b\b\b\b\b\b\b\b\b\b\b\b\b\b\b\b\b\b\b\b\b\b\b\b\b\b\b\b\b\b\b\b\b\b\b\b\b\b\b\b\b\b\b\b\b\b\b\b\b\b\b\b\b\b\b\b\b\b\b\b\b\b\b\b\b\b\b\b\b\b\b\b\b\b\b\b\b\b\b\b\b\b\b\b\b\b\b\b\b\b\b\b\b\b\b\b\b\b\b\b\b\b\b\b\b\b\b\b\b\n"
     ]
    },
    {
     "data": {
      "text/plain": [
       "0.9597"
      ]
     },
     "execution_count": 14,
     "metadata": {},
     "output_type": "execute_result"
    }
   ],
   "source": [
    "#predicton test data\n",
    "hidden_predictions = hidden_model.predict_classes(X_test)\n",
    "\n",
    "# find the acuracy of predictions\n",
    "from sklearn.metrics import accuracy_score\n",
    "accuracy_score(y_test, hidden_predictions)"
   ]
  },
  {
   "cell_type": "code",
   "execution_count": null,
   "metadata": {
    "collapsed": true
   },
   "outputs": [],
   "source": []
  }
 ],
 "metadata": {
  "anaconda-cloud": {},
  "kernelspec": {
   "display_name": "Python 3",
   "language": "python",
   "name": "python3"
  },
  "language_info": {
   "codemirror_mode": {
    "name": "ipython",
    "version": 3
   },
   "file_extension": ".py",
   "mimetype": "text/x-python",
   "name": "python",
   "nbconvert_exporter": "python",
   "pygments_lexer": "ipython3",
   "version": "3.6.0"
  }
 },
 "nbformat": 4,
 "nbformat_minor": 2
}
